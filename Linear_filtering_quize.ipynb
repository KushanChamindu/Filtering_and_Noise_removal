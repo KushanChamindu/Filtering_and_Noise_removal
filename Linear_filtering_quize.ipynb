{
  "nbformat": 4,
  "nbformat_minor": 0,
  "metadata": {
    "colab": {
      "name": "Linear filtering quize",
      "provenance": [],
      "collapsed_sections": [],
      "include_colab_link": true
    },
    "kernelspec": {
      "name": "python3",
      "display_name": "Python 3"
    },
    "language_info": {
      "name": "python"
    }
  },
  "cells": [
    {
      "cell_type": "markdown",
      "metadata": {
        "id": "view-in-github",
        "colab_type": "text"
      },
      "source": [
        "<a href=\"https://colab.research.google.com/github/KushanChamindu/Filtering_and_Noise_removal/blob/main/Linear_filtering_quize.ipynb\" target=\"_parent\"><img src=\"https://colab.research.google.com/assets/colab-badge.svg\" alt=\"Open In Colab\"/></a>"
      ]
    },
    {
      "cell_type": "code",
      "metadata": {
        "colab": {
          "base_uri": "https://localhost:8080/"
        },
        "id": "5SaNGArQYQop",
        "outputId": "a3aa6ab3-a0b4-4878-8f12-9dfc045037fc"
      },
      "source": [
        "\n",
        "# Program to multiply two matrices using nested loops\n",
        " \n",
        "# take a 3x3 matrix\n",
        "A = [[1, 1, 1],\n",
        "    [1, 1, 1],\n",
        "    [1, 1, 1]]\n",
        " \n",
        "# take a 3x4 matrix   \n",
        "B = [[2, 1, 1, 1],\n",
        "    [1, 1, 1, 1],\n",
        "    [1, 1, 1, 1]]\n",
        "D = [[2, 7, 5],\n",
        "    [1, 3, 6],\n",
        "    [7, 1,2]]\n",
        "C = [[1,1,1,1,1],[1,1,1,1,1],[1,1,1,1,1],[1,1,1,1,1],[1,1,1,1,1]]\n",
        "# result = [[0, 0, 0, 0],\n",
        "#         [0, 0, 0, 0],\n",
        "#         [0, 0, 0, 0]]\n",
        "\n",
        "def linear_filter(filter , image, parameter):\n",
        "  # for i in image:\n",
        "  #   print(i)\n",
        "  # for i in filter:\n",
        "  #   print(i)\n",
        "  if parameter == \"O\":\n",
        "    image_x = len(image)\n",
        "    image_y = len(image[0])\n",
        "    result=[]\n",
        "    image_middle = 1 # 3x3 matrix\n",
        "    for x in range(image_middle, image_x - image_middle):\n",
        "      temp = []\n",
        "      for y in range(image_middle, image_y - image_middle):\n",
        "        value = 0\n",
        "        for i in range(len(filter)):\n",
        "          for j in range(len(filter)):\n",
        "            xn = x + i - image_middle\n",
        "            yn = y + j - image_middle\n",
        "            filtered_value = filter[i][j]*image[xn][yn]\n",
        "            value += filtered_value\n",
        "        temp.append(value)\n",
        "      result.append(temp)\n",
        "  # elif parameter == \"S\":\n",
        "  elif parameter == \"P\":\n",
        "    black = 0\n",
        "    white = 1\n",
        "    image.insert(0,[black]*len(image[0]))\n",
        "    image.append([black]*len(image[0]))\n",
        "    for k in range(len(image)):\n",
        "        image[k].insert(0,black)\n",
        "        image[k].append(black)\n",
        "    # for i in image:\n",
        "    #   print(i)\n",
        "    # print(\"\\n\")\n",
        "    image_x = len(image)\n",
        "    image_y = len(image[0])\n",
        "    result=[]\n",
        "    image_middle = 1 # 3x3 matrix\n",
        "    for x in range(image_middle, image_x - image_middle):\n",
        "      temp = []\n",
        "      for y in range(image_middle, image_y - image_middle):\n",
        "        value = 0\n",
        "        for i in range(len(filter)):\n",
        "          for j in range(len(filter)):\n",
        "            xn = x + i - image_middle\n",
        "            yn = y + j - image_middle\n",
        "            # print(image[xn][yn])\n",
        "            filtered_value = filter[i][j]*image[xn][yn]\n",
        "            value += filtered_value\n",
        "        temp.append(value)\n",
        "      result.append(temp)\n",
        "  elif parameter == \"R\":\n",
        "    image.insert(0,image[0].copy())\n",
        "    image.append(image[-1].copy())\n",
        "    for k in range(len(image)):\n",
        "      image[k].insert(0,image[k][0])\n",
        "      image[k].append(image[k][-1])\n",
        "    image_x = len(image)\n",
        "    image_y = len(image[0])\n",
        "    result=[]\n",
        "    image_middle = 1 # 3x3 matrix\n",
        "    for x in range(image_middle, image_x - image_middle):\n",
        "      temp = []\n",
        "      for y in range(image_middle, image_y - image_middle):\n",
        "        value = 0\n",
        "        for i in range(len(filter)):\n",
        "          for j in range(len(filter)):\n",
        "            xn = x + i - image_middle\n",
        "            yn = y + j - image_middle\n",
        "            filtered_value = filter[i][j]*image[xn][yn]\n",
        "            value += filtered_value\n",
        "        temp.append(value)\n",
        "      result.append(temp)\n",
        "  elif parameter == \"W\":\n",
        "    image.insert(0,image[-1].copy())\n",
        "    image.append(image[1].copy())\n",
        "    for k in range(len(image)):\n",
        "      image[k].insert(0,image[k][-1])\n",
        "      image[k].append(image[k][1])\n",
        "    image_x = len(image)\n",
        "    image_y = len(image[0])\n",
        "    result=[]\n",
        "    image_middle = 1 # 3x3 matrix\n",
        "    for x in range(image_middle, image_x - image_middle):\n",
        "      temp = []\n",
        "      for y in range(image_middle, image_y - image_middle):\n",
        "        value = 0\n",
        "        for i in range(len(filter)):\n",
        "          for j in range(len(filter)):\n",
        "            xn = x + i - image_middle\n",
        "            yn = y + j - image_middle\n",
        "            filtered_value = filter[i][j]*image[xn][yn]\n",
        "            value += filtered_value\n",
        "        temp.append(value)\n",
        "      result.append(temp)\n",
        "  return result\n",
        "result = linear_filter(A, B, \"W\")\n",
        "for r in result:\n",
        "    print(r)\n"
      ],
      "execution_count": null,
      "outputs": [
        {
          "output_type": "stream",
          "text": [
            "[10, 10, 9, 10]\n",
            "[10, 10, 9, 10]\n",
            "[10, 10, 9, 10]\n"
          ],
          "name": "stdout"
        }
      ]
    },
    {
      "cell_type": "code",
      "metadata": {
        "id": "891EdCYd23CU"
      },
      "source": [
        ""
      ],
      "execution_count": null,
      "outputs": []
    },
    {
      "cell_type": "code",
      "metadata": {
        "colab": {
          "base_uri": "https://localhost:8080/"
        },
        "id": "r8NZTftzcc6A",
        "outputId": "4497f441-564a-45ff-fb37-e10c5a39dc98"
      },
      "source": [
        ""
      ],
      "execution_count": null,
      "outputs": [
        {
          "output_type": "stream",
          "text": [
            "[9, 2, 1, 1, 5, 9]\n",
            "[9, 2, 1, 1, 5, 9]\n",
            "[9, 3, 1, 1, 6, 9]\n",
            "[9, 4, 1, 1, 7, 9]\n",
            "[9, 4, 1, 1, 7, 9]\n"
          ],
          "name": "stdout"
        }
      ]
    },
    {
      "cell_type": "code",
      "metadata": {
        "id": "ZhaEBmi60RQh"
      },
      "source": [
        ""
      ],
      "execution_count": null,
      "outputs": []
    }
  ]
}